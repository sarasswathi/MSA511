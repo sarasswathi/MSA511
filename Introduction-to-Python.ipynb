{
 "cells": [
  {
   "cell_type": "code",
   "execution_count": 1,
   "id": "7f1fa800-e2a0-4389-8d51-5ad626df6622",
   "metadata": {},
   "outputs": [
    {
     "name": "stdout",
     "output_type": "stream",
     "text": [
      "Both are what you want\n"
     ]
    }
   ],
   "source": [
    "# as the value of x is equal to 10 and that of y is 20, the print statement gets executed. \n",
    "x=10\n",
    "y=20\n",
    "if x == 10 and y == 20:\n",
    "    print ('Both are what you want')"
   ]
  },
  {
   "cell_type": "code",
   "execution_count": 2,
   "id": "3430d31b-f366-459b-9329-eaa5996f4ee7",
   "metadata": {},
   "outputs": [
    {
     "data": {
      "text/plain": [
       "True"
      ]
     },
     "execution_count": 2,
     "metadata": {},
     "output_type": "execute_result"
    }
   ],
   "source": [
    "# both operands are true and output is true\n",
    "# Python follow PEMDAS \n",
    "#(Parenthesis, exponents, multiplication, division, addition, subtraction as order of operations.)\n",
    "True and True"
   ]
  },
  {
   "cell_type": "code",
   "execution_count": 3,
   "id": "26479e0e-8a70-4ef6-85ea-4d26518b2e98",
   "metadata": {},
   "outputs": [
    {
     "data": {
      "text/plain": [
       "False"
      ]
     },
     "execution_count": 3,
     "metadata": {},
     "output_type": "execute_result"
    }
   ],
   "source": [
    "True and False "
   ]
  },
  {
   "cell_type": "code",
   "execution_count": 4,
   "id": "8ae78d4f-f740-4360-b12b-f907134f0b2f",
   "metadata": {},
   "outputs": [
    {
     "data": {
      "text/plain": [
       "False"
      ]
     },
     "execution_count": 4,
     "metadata": {},
     "output_type": "execute_result"
    }
   ],
   "source": [
    "False and False"
   ]
  },
  {
   "cell_type": "code",
   "execution_count": 5,
   "id": "83639ffa-4e92-43cf-8ef3-976861a692fe",
   "metadata": {},
   "outputs": [
    {
     "data": {
      "text/plain": [
       "float"
      ]
     },
     "execution_count": 5,
     "metadata": {},
     "output_type": "execute_result"
    }
   ],
   "source": [
    "# the datatype of x is float\n",
    "x=100.0\n",
    "type(x)"
   ]
  },
  {
   "cell_type": "code",
   "execution_count": 6,
   "id": "6bde7e01-4b66-471e-a1aa-42b85f10d38c",
   "metadata": {},
   "outputs": [
    {
     "data": {
      "text/plain": [
       "0.30000000000000004"
      ]
     },
     "execution_count": 6,
     "metadata": {},
     "output_type": "execute_result"
    }
   ],
   "source": [
    "# the expected value is 0.3. However, as it is floating point arithmetic output is 0.30000000000000004\n",
    "0.1+0.2"
   ]
  },
  {
   "cell_type": "code",
   "execution_count": 7,
   "id": "1c64b9bf-b81a-4305-ad2b-7a7b47491871",
   "metadata": {},
   "outputs": [
    {
     "data": {
      "text/plain": [
       "123.0"
      ]
     },
     "execution_count": 7,
     "metadata": {},
     "output_type": "execute_result"
    }
   ],
   "source": [
    "# s is defined as an integer and its floating point vlaue is printed. \n",
    "s=123\n",
    "float(s)"
   ]
  },
  {
   "cell_type": "code",
   "execution_count": 8,
   "id": "585dc7c3-c63b-4d05-8578-f7c6e65b5776",
   "metadata": {},
   "outputs": [
    {
     "data": {
      "text/plain": [
       "123.0"
      ]
     },
     "execution_count": 8,
     "metadata": {},
     "output_type": "execute_result"
    }
   ],
   "source": [
    "# the value of s is convered to an integer and then a floating point \n",
    "s = 123.45\n",
    "float(int(s))"
   ]
  },
  {
   "cell_type": "code",
   "execution_count": 9,
   "id": "0cc28c7a-e5fb-4482-baca-8057d6573d02",
   "metadata": {},
   "outputs": [
    {
     "data": {
      "text/plain": [
       "complex"
      ]
     },
     "execution_count": 9,
     "metadata": {},
     "output_type": "execute_result"
    }
   ],
   "source": [
    "# z is a complex datatype \n",
    "z = 5j\n",
    "type (z)"
   ]
  },
  {
   "cell_type": "code",
   "execution_count": 10,
   "id": "411942a2-7dcb-42c6-a577-2455ddd186d1",
   "metadata": {},
   "outputs": [
    {
     "data": {
      "text/plain": [
       "9"
      ]
     },
     "execution_count": 10,
     "metadata": {},
     "output_type": "execute_result"
    }
   ],
   "source": [
    "# the value of w is defined as 8 and then it is increased by one making its value to be 9\n",
    "w = 8\n",
    "w = w + 1\n",
    "w"
   ]
  },
  {
   "cell_type": "code",
   "execution_count": 11,
   "id": "dce9659f-a597-4108-b4e4-294be0574f8d",
   "metadata": {},
   "outputs": [
    {
     "data": {
      "text/plain": [
       "10"
      ]
     },
     "execution_count": 11,
     "metadata": {},
     "output_type": "execute_result"
    }
   ],
   "source": [
    "# the value of w gets incremented by one \n",
    "w+=1\n",
    "w"
   ]
  },
  {
   "cell_type": "code",
   "execution_count": 12,
   "id": "b4213309-d82d-4b92-bbc6-24a73e1ed043",
   "metadata": {},
   "outputs": [
    {
     "data": {
      "text/plain": [
       "12"
      ]
     },
     "execution_count": 12,
     "metadata": {},
     "output_type": "execute_result"
    }
   ],
   "source": [
    "# the value of w gets incremented by two here. \n",
    "w+=2\n",
    "w"
   ]
  },
  {
   "cell_type": "code",
   "execution_count": 13,
   "id": "5e23787a-3450-4d2c-9abb-cbb66bdecae2",
   "metadata": {},
   "outputs": [
    {
     "name": "stdin",
     "output_type": "stream",
     "text": [
      "How far did you run 5\n",
      "How many minutes did it take 10\n"
     ]
    },
    {
     "name": "stdout",
     "output_type": "stream",
     "text": [
      "You ran at 0.5 km/m\n"
     ]
    }
   ],
   "source": [
    "# instead of the word pace the calculated value is substituted. \n",
    "distance = input('How far did you run')\n",
    "minutes = input ('How many minutes did it take')\n",
    "pace = int(distance)/int(minutes)\n",
    "print(f'You ran at {pace} km/m')"
   ]
  },
  {
   "cell_type": "code",
   "execution_count": 14,
   "id": "c41264aa-6fe1-4de5-8f5e-6511f606c676",
   "metadata": {},
   "outputs": [
    {
     "name": "stdout",
     "output_type": "stream",
     "text": [
      "x = 10\n",
      "x = 10, but x*2 = 20\n"
     ]
    }
   ],
   "source": [
    "# the length of the string is 13 (as it starts from 0). \n",
    "s = 'ghcvfdvbdfvjh'\n",
    "len(s)\n",
    "s[5]\n",
    "x = 10\n",
    "print(f'x = {x}')\n",
    "print(f'x = {x}, but x*2 = {x*2}')"
   ]
  },
  {
   "cell_type": "code",
   "execution_count": 15,
   "id": "9bbda654-3616-4b5e-9406-8c23421d86d7",
   "metadata": {},
   "outputs": [
    {
     "name": "stdin",
     "output_type": "stream",
     "text": [
      "how many pages you read 2\n",
      "how may minutes did it take 5\n"
     ]
    },
    {
     "name": "stdout",
     "output_type": "stream",
     "text": [
      "your reading 0.4 is pg/m\n"
     ]
    }
   ],
   "source": [
    "# Instead of word Speed the calculated value is substituted. \n",
    "pages = input ('how many pages you read')\n",
    "time = input ('how may minutes did it take')\n",
    "speed = int(pages)/int(time)\n",
    "print(f'your reading {speed} is pg/m')"
   ]
  },
  {
   "cell_type": "code",
   "execution_count": 16,
   "id": "23db6431-073c-4bb3-a8c4-83f6e2e083d1",
   "metadata": {},
   "outputs": [
    {
     "name": "stdin",
     "output_type": "stream",
     "text": [
      "enter your name Ross\n"
     ]
    },
    {
     "name": "stdout",
     "output_type": "stream",
     "text": [
      "your name does not end with a vowel\n"
     ]
    }
   ],
   "source": [
    "#Here the entered name does not end in a vowel\n",
    "name = input ('enter your name')\n",
    "if name[-1] in 'aeiou':\n",
    "    print(f'your name ends with a vowel')\n",
    "else:\n",
    "    print(f'your name does not end with a vowel')"
   ]
  },
  {
   "cell_type": "code",
   "execution_count": 17,
   "id": "533b3081-2d9a-4389-a54f-1b848f759973",
   "metadata": {},
   "outputs": [
    {
     "name": "stdin",
     "output_type": "stream",
     "text": [
      "enter your name Mike\n",
      "enter a positive integer 2\n"
     ]
    },
    {
     "name": "stdout",
     "output_type": "stream",
     "text": [
      "k\n"
     ]
    }
   ],
   "source": [
    "# if index entered is less than the length of the name entered, the corresponding letter is given as output\n",
    "# here name is Mike. M is at index 0. [1]= i [2]= k. Hence k is the output. \n",
    "name = input ('enter your name')\n",
    "index = input ('enter a positive integer')\n",
    "index = int(index)\n",
    "if index < 0:\n",
    "    print(f' you have entered a negative value')\n",
    "elif index >= len(name):\n",
    "    print(f'the index is  too high. The max index is {len(name)-1}')\n",
    "else:\n",
    "    print(f'{name[index]}')\n",
    "    "
   ]
  },
  {
   "cell_type": "code",
   "execution_count": null,
   "id": "84cf5141-e028-4fd2-b0d6-f09a5b650348",
   "metadata": {},
   "outputs": [],
   "source": []
  }
 ],
 "metadata": {
  "kernelspec": {
   "display_name": "Python 3 (ipykernel)",
   "language": "python",
   "name": "python3"
  },
  "language_info": {
   "codemirror_mode": {
    "name": "ipython",
    "version": 3
   },
   "file_extension": ".py",
   "mimetype": "text/x-python",
   "name": "python",
   "nbconvert_exporter": "python",
   "pygments_lexer": "ipython3",
   "version": "3.9.19"
  }
 },
 "nbformat": 4,
 "nbformat_minor": 5
}
